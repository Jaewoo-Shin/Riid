{
 "cells": [
  {
   "cell_type": "code",
   "execution_count": 13,
   "metadata": {},
   "outputs": [],
   "source": [
    "import requests\n",
    "import pandas as pd\n"
   ]
  },
  {
   "cell_type": "code",
   "execution_count": 40,
   "metadata": {},
   "outputs": [
    {
     "name": "stdout",
     "output_type": "stream",
     "text": [
      "['Moderate', 'Moderate', 'Moderate', 'Moderate', 'Low', 'Low', 'Low', 'Moderate', 'Low', 'Moderate', 'Low', 'Low', 'Moderate', 'Low', 'Low', 'Low', 'Low', 'Low', 'Low', 'Moderate', 'High', 'Low', 'Low', 'Moderate', 'Moderate', 'Moderate', 'Moderate', 'Moderate', 'Moderate', 'Moderate', 'Moderate', 'Low', 'Moderate', 'Low', 'Low', 'Moderate', 'Moderate', 'Low', 'Low', 'Low', 'Moderate', 'Moderate', 'Low', 'Moderate', 'Low', 'Moderate', 'Moderate', 'Moderate', 'Moderate', 'Low', 'Low', 'Moderate', 'Moderate', 'Moderate', 'Low', 'Moderate', 'Low', 'Low', 'Low', 'Low', 'Moderate', 'Low', 'Moderate', 'Moderate', 'Low', 'Moderate', 'Moderate', 'Low', 'Low', 'Moderate', 'Low', 'Low', 'Low', 'Low', 'Moderate', 'Moderate', 'Moderate', 'Low', 'Moderate', 'Moderate', 'Low', 'Moderate', 'Moderate', 'Low', 'Moderate', 'Moderate', 'Moderate', 'Moderate', 'Moderate', 'Low', 'Moderate', 'Moderate', 'Low', 'Moderate', 'Moderate', 'Moderate', 'Moderate', 'Low', 'Moderate', 'Low', 'Low', 'Moderate', 'Low', 'Moderate', 'Moderate', 'Moderate', 'Moderate', 'Moderate', 'Moderate', 'Moderate', 'Low', 'Low', 'Low', 'Moderate', 'Moderate', 'Moderate', 'Low', 'Low', 'Low', 'Moderate', 'Moderate', 'Low', 'Moderate', 'Moderate', 'Moderate', 'Low', 'Low', 'Moderate', 'Low', 'High', 'Moderate', 'Low', 'Moderate', 'Low', 'Moderate', 'Low', 'Low', 'Moderate', 'Moderate', 'Moderate', 'Low', 'Moderate', 'Moderate', 'Moderate', 'Low', 'Moderate', 'Moderate', 'Low', 'Low', 'Low', 'Moderate', 'Low', 'Moderate', 'Moderate', 'Low', 'Low', 'Low', 'High', 'Moderate', 'Moderate', 'Moderate', 'Moderate', 'Moderate', 'Low', 'Low', 'Moderate', 'Low', 'Moderate', 'Moderate', 'Low', 'Moderate', 'Low', 'Low', 'High', 'Moderate', 'Low', 'Moderate', 'Low', 'Low', 'Low', 'Moderate', 'Low', 'Moderate', 'Moderate', 'Low', 'Low', 'Moderate', 'Low', 'Moderate', 'Moderate', 'Low', 'Moderate', 'Moderate', 'Low', 'Low', 'Moderate', 'Low', 'Moderate', 'Moderate', 'Low', 'Low', 'Low', 'Low', 'Moderate', 'Low', 'Moderate', 'Moderate', 'Low', 'Low', 'Moderate', 'Low', 'Low', 'Low', 'Moderate', 'Moderate', 'Moderate', 'Moderate', 'Low', 'Low', 'Low', 'Low', 'Moderate', 'Moderate', 'Moderate', 'Low', 'Moderate', 'Moderate', 'Low', 'Moderate', 'Low', 'Moderate', 'Moderate', 'Low', 'Moderate', 'Moderate', 'Moderate', 'Moderate', 'Low', 'Moderate', 'Low', 'Low', 'Moderate', 'Moderate', 'Moderate', 'Low', 'Moderate', 'Low', 'Low', 'Moderate', 'Moderate', 'Moderate', 'Low', 'Low', 'Low', 'Moderate', 'Moderate', 'Moderate', 'Moderate', 'Low', 'High', 'Low', 'Moderate', 'Moderate', 'Low', 'Low', 'Moderate', 'Moderate', 'Low', 'Low', 'High', 'Moderate', 'Moderate', 'Moderate', 'Moderate', 'Moderate', 'Moderate', 'Low', 'Low', 'High', 'Moderate', 'Low', 'Low', 'Low', 'High', 'Moderate', 'Low', 'Moderate', 'Low', 'Low', 'Moderate', 'Moderate', 'Moderate', 'Moderate', 'Moderate', 'Low', 'Moderate', 'High', 'Low', 'Moderate', 'Moderate', 'High', 'Moderate', 'Low', 'Moderate', 'Moderate', 'Moderate', 'Moderate', 'Moderate', 'Moderate', 'Moderate', 'Moderate', 'Low', 'Low', 'Moderate', 'Low', 'Low', 'Moderate', 'Low', 'Low', 'Low', 'Moderate', 'Low', 'Moderate', 'Low', 'Low', 'Low', 'Moderate', 'Moderate', 'Moderate', 'Low', 'Moderate', 'Low', 'Low', 'Moderate', 'Moderate', 'Moderate', 'Moderate', 'Low', 'Moderate', 'Low', 'Moderate', 'Moderate', 'Moderate', 'Moderate', 'Moderate', 'Moderate', 'Low', 'Moderate', 'Low', 'Moderate', 'Moderate', 'Low', 'Moderate', 'Moderate', 'Moderate', 'Low', 'Moderate', 'Moderate', 'Moderate', 'Moderate', 'Moderate', 'Low', 'Low', 'Moderate', 'Moderate', 'High', 'Low', 'Moderate', 'Moderate', 'Low', 'Moderate', 'Moderate', 'Low', 'Moderate', 'Moderate', 'Low', 'Low', 'Moderate', 'Moderate', 'Low', 'Low', 'Low', 'Moderate', 'Moderate', 'Moderate', 'Low', 'Moderate', 'Moderate', 'Moderate', 'Low', 'Moderate', 'Moderate', 'Low', 'Low', 'Moderate', 'Low', 'Low', 'Low', 'High', 'Low', 'Moderate', 'Moderate', 'Low', 'Moderate', 'Moderate', 'Low', 'Moderate', 'Moderate', 'Moderate', 'High', 'High', 'High', 'Moderate', 'Low', 'Moderate', 'Low', 'Low', 'Moderate', 'Moderate', 'Low', 'Moderate', 'Moderate', 'Moderate', 'Low', 'Low', 'Low', 'Moderate', 'Moderate', 'Low', 'Low', 'Moderate', 'Low', 'Moderate', 'Low', 'Moderate', 'Low', 'Low', 'Moderate', 'Low', 'Moderate', 'Moderate', 'Moderate', 'Low', 'Moderate', 'Low', 'Moderate', 'Low', 'Moderate', 'Low', 'Moderate', 'Moderate', 'Moderate', 'Low', 'Low', 'Moderate', 'Low', 'Moderate', 'Low', 'Low', 'Moderate', 'Moderate', 'High', 'Moderate', 'High', 'High', 'Moderate', 'Low', 'Low', 'Moderate', 'Moderate', 'Moderate', 'Low', 'Low', 'Low', 'Moderate', 'Moderate', 'High', 'Moderate', 'Moderate', 'Moderate', 'Moderate', 'Low', 'Low', 'Moderate', 'Moderate', 'Moderate', 'Moderate', 'Moderate', 'Low', 'Moderate', 'High', 'Moderate', 'Low', 'Moderate', 'Low', 'Low', 'Low', 'Moderate', 'Moderate', 'Moderate', 'Low', 'Low', 'Low', 'Low', 'Low', 'Low', 'High', 'Low', 'Low', 'Moderate', 'Low', 'Moderate', 'Low', 'Moderate', 'Low', 'Moderate', 'Low', 'High', 'Low', 'Moderate', 'Low', 'Low', 'Low', 'Moderate', 'Moderate', 'Moderate', 'Moderate', 'Moderate', 'Moderate', 'Low', 'Moderate', 'Low', 'Low', 'Low', 'Moderate', 'Moderate', 'Moderate', 'Low', 'Low', 'Moderate', 'Moderate', 'Moderate', 'Moderate', 'Low', 'Moderate', 'Moderate', 'Low', 'Moderate', 'Low', 'Moderate', 'Moderate', 'Low', 'Moderate', 'Moderate', 'Moderate', 'Moderate', 'Low', 'Moderate', 'Low', 'Moderate', 'High', 'Moderate', 'Moderate', 'Low', 'Low', 'Moderate', 'Low', 'Moderate', 'Low', 'Moderate', 'Moderate', 'Moderate', 'High', 'Moderate', 'Low', 'Low', 'Moderate', 'Low', 'Moderate', 'Moderate', 'Low', 'Low', 'Low', 'Moderate', 'Moderate', 'Low', 'Low', 'Moderate', 'Low', 'Moderate', 'Moderate', 'Low', 'High', 'Low', 'Moderate', 'Low', 'Moderate', 'Moderate', 'Moderate', 'Low', 'Low', 'Low', 'Moderate', 'Low', 'Low', 'Moderate', 'Moderate', 'Low', 'Moderate', 'Low', 'Moderate', 'Moderate', 'Moderate', 'Low', 'Low', 'Low', 'Moderate', 'Low', 'Low', 'High', 'Moderate', 'Moderate', 'Moderate', 'Moderate', 'Low', 'Low', 'Low', 'Moderate', 'High', 'Low', 'Low', 'Moderate', 'Moderate', 'Low', 'Low', 'Moderate', 'Low', 'Moderate', 'Moderate', 'Low', 'Moderate', 'Moderate', 'Low', 'High', 'Moderate', 'Low', 'Low', 'Moderate', 'High', 'Moderate', 'Low', 'Moderate', 'Low', 'Low', 'Low', 'Moderate', 'Moderate', 'Low', 'Low', 'Low', 'Moderate', 'Moderate', 'Moderate', 'Moderate', 'Moderate', 'Moderate', 'Moderate', 'Moderate', 'Low', 'Moderate', 'Low', 'Low', 'Low', 'Moderate', 'Low', 'Low', 'Moderate', 'Low', 'Moderate', 'Moderate', 'Low', 'Low', 'Moderate', 'Moderate', 'Low', 'Low', 'Moderate', 'Low', 'Moderate', 'High', 'Moderate', 'Moderate', 'Moderate', 'Moderate', 'Moderate', 'Moderate', 'Low', 'Low', 'Moderate', 'Low', 'Moderate', 'Low', 'Low', 'Low', 'Low', 'Moderate', 'Moderate', 'Moderate', 'Moderate', 'Moderate', 'Low', 'Low', 'Low', 'Moderate', 'Low', 'Low', 'High', 'Low', 'Moderate', 'Moderate', 'Moderate', 'Low', 'Moderate', 'Low', 'Low', 'Moderate', 'Moderate', 'Moderate', 'Low', 'Moderate', 'Moderate', 'Moderate', 'Moderate', 'High', 'Moderate', 'Moderate', 'Low', 'Moderate', 'Moderate', 'Low', 'Moderate', 'Moderate', 'Low', 'Low', 'Low', 'Low', 'Moderate', 'Moderate', 'High', 'Moderate', 'Moderate', 'Low', 'Moderate', 'Low', 'Moderate', 'Low', 'Moderate', 'Low', 'Moderate', 'Low', 'Low', 'Low', 'Moderate', 'Low', 'Moderate', 'Moderate', 'Low', 'Moderate', 'Low', 'Moderate', 'Moderate', 'Moderate', 'Low', 'Low', 'Low', 'Moderate', 'Moderate', 'Low', 'Low', 'Moderate', 'Moderate', 'Moderate', 'Moderate', 'Moderate', 'High', 'Moderate', 'Low', 'Low', 'High', 'Moderate', 'Low', 'Moderate', 'Low', 'Low', 'Low', 'Moderate', 'Moderate', 'Moderate', 'Moderate', 'Moderate', 'Moderate', 'Moderate', 'Low', 'Moderate', 'Low', 'Low', 'Moderate', 'Moderate', 'Moderate', 'Moderate', 'High', 'Moderate', 'Moderate', 'Low', 'Moderate', 'Low', 'Moderate', 'Low', 'Low', 'Low', 'Moderate', 'Moderate', 'Moderate', 'Moderate', 'Low', 'Moderate', 'Moderate', 'Moderate', 'Moderate', 'Moderate', 'Moderate', 'Low', 'Moderate', 'Moderate', 'Moderate', 'Moderate', 'Moderate', 'Moderate', 'Moderate', 'Low', 'Moderate', 'Moderate', 'Low', 'Moderate', 'Moderate', 'Moderate', 'Moderate', 'Low', 'Low', 'Moderate', 'Moderate', 'Low', 'Moderate', 'Low', 'Low', 'Low', 'Low', 'Low', 'Low', 'Low', 'Low', 'Low', 'Low', 'Low', 'Low', 'Moderate', 'Moderate', 'Moderate', 'Low', 'Moderate', 'Moderate', 'Moderate', 'Moderate', 'Low', 'Moderate', 'Moderate', 'Moderate', 'Low', 'Moderate', 'Moderate', 'Moderate', 'Moderate', 'Moderate', 'Moderate', 'Moderate', 'Moderate', 'Moderate', 'Moderate', 'Moderate', 'Moderate', 'Moderate', 'Moderate', 'Moderate', 'Moderate', 'Low', 'Moderate', 'Low', 'Moderate', 'Low', 'Moderate', 'Moderate', 'Moderate', 'Moderate', 'Moderate', 'Moderate', 'High', 'Low', 'Moderate', 'Moderate', 'Low', 'Moderate', 'Low', 'Moderate', 'Moderate', 'Low', 'Moderate', 'Moderate', 'Moderate', 'High', 'Moderate', 'Moderate', 'Moderate', 'Moderate', 'Low', 'Moderate', 'Moderate', 'Low', 'Moderate', 'Low', 'Moderate', 'Moderate', 'Moderate', 'Low', 'Moderate', 'Low', 'Moderate', 'High', 'Low', 'Moderate', 'High', 'Moderate', 'Low', 'Low', 'Moderate', 'Moderate', 'Moderate', 'Moderate', 'Moderate', 'Low', 'Low', 'Low', 'Low', 'Moderate', 'Moderate', 'High', 'Low', 'Moderate', 'Moderate', 'Low', 'Moderate', 'Low', 'Moderate', 'High', 'Moderate', 'Moderate', 'Moderate', 'Low', 'Low', 'Moderate', 'Moderate', 'Moderate', 'Low', 'Low', 'Moderate', 'Low', 'Moderate', 'Moderate', 'Low', 'Low', 'Moderate', 'Moderate', 'Moderate', 'Low', 'Moderate', 'Low', 'Moderate', 'Moderate', 'Moderate', 'Low', 'Low', 'Low', 'Low', 'Low', 'Low', 'Low', 'Low', 'Low', 'Moderate', 'Moderate', 'Moderate', 'Low', 'Moderate', 'Moderate', 'Moderate', 'Moderate', 'Moderate', 'Moderate', 'Moderate', 'Moderate', 'Low', 'Moderate', 'Moderate', 'Low', 'Low', 'Low', 'Moderate', 'Low', 'Moderate', 'Low', 'Moderate', 'Moderate', 'Moderate', 'Moderate', 'Low', 'Moderate', 'Moderate', 'Low', 'Low', 'Low', 'Moderate', 'Low', 'High', 'Low', 'Moderate', 'Moderate', 'Low', 'Low', 'Moderate', 'Low', 'High', 'Low', 'Moderate', 'Moderate', 'Low', 'Moderate', 'Low', 'Moderate', 'Moderate', 'Moderate', 'Low', 'Moderate', 'Moderate', 'Moderate', 'Low', 'Low', 'Low', 'Moderate', 'Low', 'Moderate', 'Low', 'Low', 'Moderate', 'Moderate', 'Moderate', 'Moderate', 'High', 'Low', 'Low', 'Moderate', 'Moderate', 'Moderate', 'Moderate', 'Moderate', 'Low', 'Moderate', 'Low', 'Moderate', 'Moderate', 'Moderate', 'Low', 'Low', 'Moderate', 'Low', 'Moderate', 'Moderate', 'Moderate', 'Low', 'Moderate', 'Low', 'Low', 'Moderate', 'Low', 'Low', 'Moderate', 'Low', 'Moderate', 'Moderate', 'Low', 'Moderate', 'Moderate', 'Low', 'Moderate', 'Moderate', 'Moderate', 'Moderate', 'Moderate', 'High', 'Low', 'Low', 'Moderate', 'Moderate', 'Low', 'Low', 'Low', 'High', 'Low', 'Moderate', 'Moderate', 'Moderate', 'Moderate', 'Moderate', 'Moderate', 'Moderate', 'Moderate', 'Low', 'Moderate', 'Low', 'Low', 'Moderate', 'Low', 'Low', 'Low', 'Low', 'Moderate', 'Low', 'Moderate', 'Moderate', 'Moderate', 'Moderate', 'Low', 'Moderate', 'Moderate', 'Low', 'Low', 'Low', 'Moderate', 'Moderate', 'Moderate', 'Moderate', 'Low', 'Low', 'Low', 'Moderate', 'Moderate', 'Low', 'Moderate', 'Low', 'High', 'Low', 'Low', 'Moderate', 'Low', 'Moderate', 'Moderate', 'Moderate', 'Moderate', 'Moderate', 'Low', 'Moderate', 'Low', 'Moderate', 'High', 'Low', 'Low', 'Moderate', 'Low', 'High', 'Low', 'Moderate', 'High', 'Low', 'Low', 'Moderate', 'Low', 'Moderate', 'Low', 'Moderate', 'Low', 'Moderate', 'Low', 'Moderate', 'Moderate', 'Low', 'High', 'Low', 'High', 'Low', 'Moderate', 'Low', 'Low', 'Low', 'Moderate', 'Moderate', 'Low', 'Low']\n"
     ]
    }
   ],
   "source": [
    "file = open('./P3/data.csv', 'rb')\n",
    "response = requests.post(\"http://localhost:5000/predict\", files={\"csv\": file})\n",
    "print(response.json())"
   ]
  },
  {
   "cell_type": "code",
   "execution_count": null,
   "metadata": {},
   "outputs": [],
   "source": []
  }
 ],
 "metadata": {
  "kernelspec": {
   "display_name": "base",
   "language": "python",
   "name": "python3"
  },
  "language_info": {
   "codemirror_mode": {
    "name": "ipython",
    "version": 3
   },
   "file_extension": ".py",
   "mimetype": "text/x-python",
   "name": "python",
   "nbconvert_exporter": "python",
   "pygments_lexer": "ipython3",
   "version": "3.9.12"
  },
  "orig_nbformat": 4,
  "vscode": {
   "interpreter": {
    "hash": "afb134de6b20bc18cb5687bdbd0a6385f37f7d47a0b53beccc252b0628f91b17"
   }
  }
 },
 "nbformat": 4,
 "nbformat_minor": 2
}
